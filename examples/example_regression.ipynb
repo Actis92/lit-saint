{
 "cells": [
  {
   "cell_type": "markdown",
   "metadata": {},
   "source": [
    "# Example Regression\n",
    "\n",
    "In this notebook will be showed how to use lit-saint for a regression problem. We will use the \"California housing\" dataset in which the objective is to predict the Median house value for households within a block (measured in US Dollars)"
   ]
  },
  {
   "cell_type": "markdown",
   "metadata": {},
   "source": [
    "## Import libraries <a class=\"anchor\" id=\"import\"></a>"
   ]
  },
  {
   "cell_type": "code",
   "execution_count": 1,
   "metadata": {},
   "outputs": [],
   "source": [
    "import numpy as np\n",
    "import pandas as pd\n",
    "from sklearn.datasets import fetch_california_housing\n",
    "from sklearn.metrics import explained_variance_score, mean_absolute_error, mean_squared_error\n",
    "from sklearn.model_selection import train_test_split\n",
    "from lit_saint import Saint, SaintConfig, SaintDatamodule, SaintTrainer\n",
    "from pytorch_lightning import Trainer, seed_everything"
   ]
  },
  {
   "cell_type": "markdown",
   "metadata": {},
   "source": [
    "## Download Data <a class=\"anchor\" id=\"download\"></a>"
   ]
  },
  {
   "cell_type": "code",
   "execution_count": 2,
   "metadata": {},
   "outputs": [],
   "source": [
    "df = fetch_california_housing(as_frame=True)"
   ]
  },
  {
   "cell_type": "markdown",
   "metadata": {
    "pycharm": {
     "name": "#%% md\n"
    }
   },
   "source": [
    "## Configure lit-saint <a class=\"anchor\" id=\"configure\"></a>"
   ]
  },
  {
   "cell_type": "code",
   "execution_count": 3,
   "metadata": {
    "pycharm": {
     "name": "#%%\n"
    }
   },
   "outputs": [],
   "source": [
    "# if you want to used default value for the parameters\n",
    "cfg = SaintConfig()\n",
    "\n",
    "# otherwise you can use hydra to read a config file (uncomment the following part)\n",
    "# from hydra.core.config_store import ConfigStore\n",
    "# cs = ConfigStore.instance()\n",
    "# cs.store(name=\"base_config\", node=SaintConfig)\n",
    "# with initialize(config_path=\".\"):\n",
    "#   cfg = compose(config_name=\"config\")\n"
   ]
  },
  {
   "cell_type": "markdown",
   "metadata": {
    "pycharm": {
     "name": "#%% md\n"
    }
   },
   "source": [
    "## Prepare Data <a class=\"anchor\" id=\"prepare\"></a>"
   ]
  },
  {
   "cell_type": "code",
   "execution_count": 4,
   "metadata": {},
   "outputs": [
    {
     "name": "stderr",
     "output_type": "stream",
     "text": [
      "Global seed set to 42\n"
     ]
    },
    {
     "data": {
      "text/html": [
       "<div>\n",
       "<style scoped>\n",
       "    .dataframe tbody tr th:only-of-type {\n",
       "        vertical-align: middle;\n",
       "    }\n",
       "\n",
       "    .dataframe tbody tr th {\n",
       "        vertical-align: top;\n",
       "    }\n",
       "\n",
       "    .dataframe thead th {\n",
       "        text-align: right;\n",
       "    }\n",
       "</style>\n",
       "<table border=\"1\" class=\"dataframe\">\n",
       "  <thead>\n",
       "    <tr style=\"text-align: right;\">\n",
       "      <th></th>\n",
       "      <th>MedInc</th>\n",
       "      <th>HouseAge</th>\n",
       "      <th>AveRooms</th>\n",
       "      <th>AveBedrms</th>\n",
       "      <th>Population</th>\n",
       "      <th>AveOccup</th>\n",
       "      <th>Latitude</th>\n",
       "      <th>Longitude</th>\n",
       "      <th>MedHouseVal</th>\n",
       "      <th>split</th>\n",
       "    </tr>\n",
       "  </thead>\n",
       "  <tbody>\n",
       "    <tr>\n",
       "      <th>16907</th>\n",
       "      <td>4.9700</td>\n",
       "      <td>52.0</td>\n",
       "      <td>6.685065</td>\n",
       "      <td>1.120130</td>\n",
       "      <td>800.0</td>\n",
       "      <td>2.597403</td>\n",
       "      <td>37.57</td>\n",
       "      <td>-122.35</td>\n",
       "      <td>5.00001</td>\n",
       "      <td>train</td>\n",
       "    </tr>\n",
       "    <tr>\n",
       "      <th>7831</th>\n",
       "      <td>2.8090</td>\n",
       "      <td>20.0</td>\n",
       "      <td>4.305136</td>\n",
       "      <td>1.113293</td>\n",
       "      <td>1855.0</td>\n",
       "      <td>2.802115</td>\n",
       "      <td>33.90</td>\n",
       "      <td>-118.15</td>\n",
       "      <td>1.44600</td>\n",
       "      <td>train</td>\n",
       "    </tr>\n",
       "    <tr>\n",
       "      <th>5004</th>\n",
       "      <td>3.3906</td>\n",
       "      <td>48.0</td>\n",
       "      <td>5.732353</td>\n",
       "      <td>0.905882</td>\n",
       "      <td>823.0</td>\n",
       "      <td>2.420588</td>\n",
       "      <td>34.02</td>\n",
       "      <td>-118.32</td>\n",
       "      <td>1.89700</td>\n",
       "      <td>train</td>\n",
       "    </tr>\n",
       "    <tr>\n",
       "      <th>8636</th>\n",
       "      <td>7.9614</td>\n",
       "      <td>43.0</td>\n",
       "      <td>5.702517</td>\n",
       "      <td>1.027460</td>\n",
       "      <td>1033.0</td>\n",
       "      <td>2.363844</td>\n",
       "      <td>33.88</td>\n",
       "      <td>-118.41</td>\n",
       "      <td>5.00001</td>\n",
       "      <td>train</td>\n",
       "    </tr>\n",
       "    <tr>\n",
       "      <th>11559</th>\n",
       "      <td>4.0194</td>\n",
       "      <td>28.0</td>\n",
       "      <td>5.055031</td>\n",
       "      <td>1.025157</td>\n",
       "      <td>2066.0</td>\n",
       "      <td>3.248428</td>\n",
       "      <td>33.76</td>\n",
       "      <td>-117.98</td>\n",
       "      <td>1.97400</td>\n",
       "      <td>train</td>\n",
       "    </tr>\n",
       "  </tbody>\n",
       "</table>\n",
       "</div>"
      ],
      "text/plain": [
       "       MedInc  HouseAge  AveRooms  AveBedrms  Population  AveOccup  Latitude  \\\n",
       "16907  4.9700      52.0  6.685065   1.120130       800.0  2.597403     37.57   \n",
       "7831   2.8090      20.0  4.305136   1.113293      1855.0  2.802115     33.90   \n",
       "5004   3.3906      48.0  5.732353   0.905882       823.0  2.420588     34.02   \n",
       "8636   7.9614      43.0  5.702517   1.027460      1033.0  2.363844     33.88   \n",
       "11559  4.0194      28.0  5.055031   1.025157      2066.0  3.248428     33.76   \n",
       "\n",
       "       Longitude  MedHouseVal  split  \n",
       "16907    -122.35      5.00001  train  \n",
       "7831     -118.15      1.44600  train  \n",
       "5004     -118.32      1.89700  train  \n",
       "8636     -118.41      5.00001  train  \n",
       "11559    -117.98      1.97400  train  "
      ]
     },
     "execution_count": 4,
     "metadata": {},
     "output_type": "execute_result"
    }
   ],
   "source": [
    "seed_everything(42, workers=True)\n",
    "df = df.frame\n",
    "df_train, df_test = train_test_split(df, test_size=0.10, random_state=42)\n",
    "df_train, df_val = train_test_split(df_train, test_size=0.10, random_state=42)\n",
    "df_train[\"split\"] = \"train\"\n",
    "df_val[\"split\"] = \"validation\"\n",
    "df = pd.concat([df_train, df_val])\n",
    "# The target is in the column MedHouseVal and we can see that it contains some floats so the library will considered the problem as a regression\n",
    "df.head()"
   ]
  },
  {
   "cell_type": "markdown",
   "metadata": {
    "pycharm": {
     "name": "#%% md\n"
    }
   },
   "source": [
    "## Fit the model <a class=\"anchor\" id=\"fit\"></a>"
   ]
  },
  {
   "cell_type": "code",
   "execution_count": null,
   "metadata": {},
   "outputs": [],
   "source": [
    "data_module = SaintDatamodule(df=df, target=\"MedHouseVal\", split_column=\"split\")\n",
    "model = Saint(categories=data_module.categorical_dims, continuous=data_module.numerical_columns,\n",
    "              config=cfg, dim_target=data_module.dim_target)\n",
    "pretrainer = Trainer(max_epochs=cfg.pretrain.epochs)\n",
    "trainer = Trainer(max_epochs=10)\n",
    "saint_trainer = SaintTrainer(pretrainer=pretrainer, trainer=trainer)\n",
    "saint_trainer.fit(model=model, datamodule=data_module, enable_pretraining=True)"
   ]
  },
  {
   "cell_type": "markdown",
   "metadata": {
    "pycharm": {
     "name": "#%% md\n"
    }
   },
   "source": [
    "## Make predictions <a class=\"anchor\" id=\"predict\"></a>"
   ]
  },
  {
   "cell_type": "code",
   "execution_count": null,
   "metadata": {
    "pycharm": {
     "name": "#%%\n"
    }
   },
   "outputs": [],
   "source": [
    "prediction = saint_trainer.predict(model=model, datamodule=data_module, df=df_test)\n",
    "df_test[\"prediction\"] = prediction"
   ]
  },
  {
   "cell_type": "code",
   "execution_count": 7,
   "metadata": {
    "pycharm": {
     "name": "#%%\n"
    }
   },
   "outputs": [
    {
     "name": "stdout",
     "output_type": "stream",
     "text": [
      "Explained Variance: 0.6835245941402444 MAE: 0.4766954095214282 MSE: 0.42516899954601584\n"
     ]
    }
   ],
   "source": [
    "expl_variance = explained_variance_score(df_test[\"MedHouseVal\"], df_test[\"prediction\"])\n",
    "mae = mean_absolute_error(df_test[\"MedHouseVal\"], df_test[\"prediction\"])\n",
    "mse = mean_squared_error(df_test[\"MedHouseVal\"], df_test[\"prediction\"])\n",
    "print(f\"Explained Variance: {expl_variance} MAE: {mae} MSE: {mse}\")"
   ]
  },
  {
   "cell_type": "markdown",
   "metadata": {
    "pycharm": {
     "name": "#%% md\n"
    }
   },
   "source": [
    "## Uncertainty Estimation <a class=\"anchor\" id=\"uncertainty\"></a>"
   ]
  },
  {
   "cell_type": "code",
   "execution_count": null,
   "metadata": {
    "pycharm": {
     "name": "#%%\n"
    }
   },
   "outputs": [],
   "source": [
    "mc_prediction = saint_trainer.predict(model=model, datamodule=data_module, df=df_test, mc_dropout_iterations=4)"
   ]
  },
  {
   "cell_type": "code",
   "execution_count": 9,
   "metadata": {
    "pycharm": {
     "name": "#%%\n"
    }
   },
   "outputs": [
    {
     "data": {
      "text/plain": [
       "array([[[0.6113666 , 0.5303789 , 0.6088008 , 0.50359756]],\n",
       "\n",
       "       [[1.6021758 , 1.4766475 , 1.5595936 , 1.6277379 ]],\n",
       "\n",
       "       [[3.4029758 , 3.4458263 , 3.5525124 , 3.5148988 ]],\n",
       "\n",
       "       ...,\n",
       "\n",
       "       [[3.1485445 , 3.0460937 , 3.034754  , 3.1309571 ]],\n",
       "\n",
       "       [[1.5157897 , 1.4789042 , 1.5377241 , 1.5246242 ]],\n",
       "\n",
       "       [[1.5674988 , 1.5290661 , 1.4482845 , 1.6628958 ]]], dtype=float32)"
      ]
     },
     "execution_count": 9,
     "metadata": {},
     "output_type": "execute_result"
    }
   ],
   "source": [
    "mc_prediction"
   ]
  },
  {
   "cell_type": "code",
   "execution_count": 10,
   "metadata": {
    "pycharm": {
     "name": "#%%\n"
    }
   },
   "outputs": [
    {
     "data": {
      "text/plain": [
       "array([[<AxesSubplot:title={'center':'variance'}>]], dtype=object)"
      ]
     },
     "execution_count": 10,
     "metadata": {},
     "output_type": "execute_result"
    },
    {
     "data": {
      "image/png": "[encoded data removed]",
      "text/plain": [
       "<Figure size 432x288 with 1 Axes>"
      ]
     },
     "metadata": {
      "needs_background": "light"
     },
     "output_type": "display_data"
    }
   ],
   "source": [
    "# Given the predictions we can compute the variance across the iterations, so axis=2\n",
    "var_prediction = np.var(mc_prediction,axis=2)\n",
    "# Then we focus our attention on the variance of the first class\n",
    "pd.DataFrame(var_prediction[:,0], columns=[\"variance\"]).hist()"
   ]
  }
 ],
 "metadata": {
  "kernelspec": {
   "display_name": "Python 3",
   "language": "python",
   "name": "python3"
  },
  "language_info": {
   "codemirror_mode": {
    "name": "ipython",
    "version": 3
   },
   "file_extension": ".py",
   "mimetype": "text/x-python",
   "name": "python",
   "nbconvert_exporter": "python",
   "pygments_lexer": "ipython3",
   "version": "3.8.6"
  }
 },
 "nbformat": 4,
 "nbformat_minor": 2
}
