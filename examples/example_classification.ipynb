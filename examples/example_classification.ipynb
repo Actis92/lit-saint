{
 "cells": [
  {
   "cell_type": "markdown",
   "metadata": {},
   "source": [
    "# Example Classification\n",
    "\n",
    "In this notebook will be showed how to use lit-saint for a classification problem. We will use the \"Census Income\" dataset in which the objective is to predict whether income exceeds $50K/yr based on census data"
   ]
  },
  {
   "cell_type": "markdown",
   "metadata": {},
   "source": [
    "## Import libraries <a class=\"anchor\" id=\"import\"></a>"
   ]
  },
  {
   "cell_type": "code",
   "execution_count": 1,
   "metadata": {},
   "outputs": [],
   "source": [
    "import numpy as np\n",
    "import pandas as pd\n",
    "import os\n",
    "from pathlib import Path\n",
    "from sklearn.metrics import classification_report\n",
    "from sklearn.model_selection import train_test_split\n",
    "import wget\n",
    "from lit_saint import Saint, SaintConfig, SaintDatamodule, SaintTrainer\n",
    "from pytorch_lightning import Trainer, seed_everything"
   ]
  },
  {
   "cell_type": "markdown",
   "metadata": {},
   "source": [
    "## Download Data <a class=\"anchor\" id=\"download\"></a>"
   ]
  },
  {
   "cell_type": "code",
   "execution_count": 2,
   "metadata": {},
   "outputs": [
    {
     "name": "stdout",
     "output_type": "stream",
     "text": [
      "File already exists.\n"
     ]
    }
   ],
   "source": [
    "url = \"https://archive.ics.uci.edu/ml/machine-learning-databases/adult/adult.data\"\n",
    "out = Path(os.getcwd() + '/data/adult.csv')\n",
    "out.parent.mkdir(parents=True, exist_ok=True)\n",
    "if out.exists():\n",
    "    print(\"File already exists.\")\n",
    "else:\n",
    "    wget.download(url, out.as_posix())"
   ]
  },
  {
   "cell_type": "markdown",
   "metadata": {
    "pycharm": {
     "name": "#%% md\n"
    }
   },
   "source": [
    "## Configure lit-saint <a class=\"anchor\" id=\"configure\"></a>"
   ]
  },
  {
   "cell_type": "code",
   "execution_count": 3,
   "metadata": {
    "pycharm": {
     "name": "#%%\n"
    }
   },
   "outputs": [],
   "source": [
    "# if you want to used default value for the parameters\n",
    "cfg = SaintConfig()\n",
    "\n",
    "# otherwise you can use hydra to read a config file (uncomment the following part)\n",
    "# from hydra.core.config_store import ConfigStore\n",
    "# cs = ConfigStore.instance()\n",
    "# cs.store(name=\"base_config\", node=SaintConfig)\n",
    "# with initialize(config_path=\".\"):\n",
    "#   cfg = compose(config_name=\"config\")\n"
   ]
  },
  {
   "cell_type": "markdown",
   "metadata": {
    "pycharm": {
     "name": "#%% md\n"
    }
   },
   "source": [
    "## Prepare Data <a class=\"anchor\" id=\"prepare\"></a>"
   ]
  },
  {
   "cell_type": "code",
   "execution_count": 4,
   "metadata": {},
   "outputs": [
    {
     "name": "stderr",
     "output_type": "stream",
     "text": [
      "Global seed set to 42\n"
     ]
    },
    {
     "data": {
      "text/html": [
       "<div>\n",
       "<style scoped>\n",
       "    .dataframe tbody tr th:only-of-type {\n",
       "        vertical-align: middle;\n",
       "    }\n",
       "\n",
       "    .dataframe tbody tr th {\n",
       "        vertical-align: top;\n",
       "    }\n",
       "\n",
       "    .dataframe thead th {\n",
       "        text-align: right;\n",
       "    }\n",
       "</style>\n",
       "<table border=\"1\" class=\"dataframe\">\n",
       "  <thead>\n",
       "    <tr style=\"text-align: right;\">\n",
       "      <th></th>\n",
       "      <th>0</th>\n",
       "      <th>1</th>\n",
       "      <th>2</th>\n",
       "      <th>3</th>\n",
       "      <th>4</th>\n",
       "      <th>5</th>\n",
       "      <th>6</th>\n",
       "      <th>7</th>\n",
       "      <th>8</th>\n",
       "      <th>9</th>\n",
       "      <th>10</th>\n",
       "      <th>11</th>\n",
       "      <th>12</th>\n",
       "      <th>13</th>\n",
       "      <th>14</th>\n",
       "      <th>split</th>\n",
       "    </tr>\n",
       "  </thead>\n",
       "  <tbody>\n",
       "    <tr>\n",
       "      <th>25402</th>\n",
       "      <td>19</td>\n",
       "      <td>State-gov</td>\n",
       "      <td>67217</td>\n",
       "      <td>Some-college</td>\n",
       "      <td>10</td>\n",
       "      <td>Never-married</td>\n",
       "      <td>Other-service</td>\n",
       "      <td>Not-in-family</td>\n",
       "      <td>White</td>\n",
       "      <td>Male</td>\n",
       "      <td>594</td>\n",
       "      <td>0</td>\n",
       "      <td>24</td>\n",
       "      <td>United-States</td>\n",
       "      <td>&lt;=50K</td>\n",
       "      <td>train</td>\n",
       "    </tr>\n",
       "    <tr>\n",
       "      <th>5221</th>\n",
       "      <td>18</td>\n",
       "      <td>Private</td>\n",
       "      <td>300379</td>\n",
       "      <td>12th</td>\n",
       "      <td>8</td>\n",
       "      <td>Never-married</td>\n",
       "      <td>Adm-clerical</td>\n",
       "      <td>Own-child</td>\n",
       "      <td>White</td>\n",
       "      <td>Male</td>\n",
       "      <td>0</td>\n",
       "      <td>0</td>\n",
       "      <td>12</td>\n",
       "      <td>United-States</td>\n",
       "      <td>&lt;=50K</td>\n",
       "      <td>train</td>\n",
       "    </tr>\n",
       "    <tr>\n",
       "      <th>11528</th>\n",
       "      <td>18</td>\n",
       "      <td>Private</td>\n",
       "      <td>150817</td>\n",
       "      <td>HS-grad</td>\n",
       "      <td>9</td>\n",
       "      <td>Never-married</td>\n",
       "      <td>Sales</td>\n",
       "      <td>Own-child</td>\n",
       "      <td>White</td>\n",
       "      <td>Female</td>\n",
       "      <td>0</td>\n",
       "      <td>0</td>\n",
       "      <td>20</td>\n",
       "      <td>United-States</td>\n",
       "      <td>&lt;=50K</td>\n",
       "      <td>train</td>\n",
       "    </tr>\n",
       "    <tr>\n",
       "      <th>11085</th>\n",
       "      <td>28</td>\n",
       "      <td>?</td>\n",
       "      <td>80165</td>\n",
       "      <td>Some-college</td>\n",
       "      <td>10</td>\n",
       "      <td>Divorced</td>\n",
       "      <td>?</td>\n",
       "      <td>Not-in-family</td>\n",
       "      <td>White</td>\n",
       "      <td>Female</td>\n",
       "      <td>0</td>\n",
       "      <td>0</td>\n",
       "      <td>30</td>\n",
       "      <td>United-States</td>\n",
       "      <td>&lt;=50K</td>\n",
       "      <td>train</td>\n",
       "    </tr>\n",
       "    <tr>\n",
       "      <th>11464</th>\n",
       "      <td>69</td>\n",
       "      <td>Private</td>\n",
       "      <td>108196</td>\n",
       "      <td>9th</td>\n",
       "      <td>5</td>\n",
       "      <td>Never-married</td>\n",
       "      <td>Craft-repair</td>\n",
       "      <td>Other-relative</td>\n",
       "      <td>White</td>\n",
       "      <td>Male</td>\n",
       "      <td>2993</td>\n",
       "      <td>0</td>\n",
       "      <td>40</td>\n",
       "      <td>United-States</td>\n",
       "      <td>&lt;=50K</td>\n",
       "      <td>train</td>\n",
       "    </tr>\n",
       "  </tbody>\n",
       "</table>\n",
       "</div>"
      ],
      "text/plain": [
       "        0           1       2              3   4               5  \\\n",
       "25402  19   State-gov   67217   Some-college  10   Never-married   \n",
       "5221   18     Private  300379           12th   8   Never-married   \n",
       "11528  18     Private  150817        HS-grad   9   Never-married   \n",
       "11085  28           ?   80165   Some-college  10        Divorced   \n",
       "11464  69     Private  108196            9th   5   Never-married   \n",
       "\n",
       "                    6                7       8        9    10  11  12  \\\n",
       "25402   Other-service    Not-in-family   White     Male   594   0  24   \n",
       "5221     Adm-clerical        Own-child   White     Male     0   0  12   \n",
       "11528           Sales        Own-child   White   Female     0   0  20   \n",
       "11085               ?    Not-in-family   White   Female     0   0  30   \n",
       "11464    Craft-repair   Other-relative   White     Male  2993   0  40   \n",
       "\n",
       "                   13      14  split  \n",
       "25402   United-States   <=50K  train  \n",
       "5221    United-States   <=50K  train  \n",
       "11528   United-States   <=50K  train  \n",
       "11085   United-States   <=50K  train  \n",
       "11464   United-States   <=50K  train  "
      ]
     },
     "execution_count": 4,
     "metadata": {},
     "output_type": "execute_result"
    }
   ],
   "source": [
    "seed_everything(42, workers=True)\n",
    "df = pd.read_csv(os.getcwd() + \"/data/adult.csv\", header=None)\n",
    "df_train, df_test = train_test_split(df, test_size=0.10, random_state=42)\n",
    "df_train, df_val = train_test_split(df_train, test_size=0.10, random_state=42)\n",
    "df_train[\"split\"] = \"train\"\n",
    "df_val[\"split\"] = \"validation\"\n",
    "df = pd.concat([df_train, df_val])\n",
    "# The target is in the column number 14 and we can see that it contains some string so the library will considered the problem as a classification\n",
    "df.head()"
   ]
  },
  {
   "cell_type": "markdown",
   "metadata": {
    "pycharm": {
     "name": "#%% md\n"
    }
   },
   "source": [
    "## Fit the model <a class=\"anchor\" id=\"fit\"></a>"
   ]
  },
  {
   "cell_type": "code",
   "execution_count": null,
   "metadata": {},
   "outputs": [],
   "source": [
    "data_module = SaintDatamodule(df=df, target=df.columns[14], split_column=\"split\",\n",
    "                              num_workers=cfg.network.num_workers,\n",
    "                              data_loader_params={\"batch_size\": cfg.network.batch_size})\n",
    "model = Saint(categories=data_module.categorical_dims, continuous=data_module.numerical_columns,\n",
    "              config=cfg, dim_target=data_module.dim_target)\n",
    "pretrainer = Trainer(max_epochs=cfg.pretrain.epochs)\n",
    "trainer = Trainer(max_epochs=cfg.train.epochs)\n",
    "saint_trainer = SaintTrainer(pretrainer=pretrainer, trainer=trainer)\n",
    "saint_trainer.fit(model=model, datamodule=data_module, enable_pretraining=True)"
   ]
  },
  {
   "cell_type": "markdown",
   "metadata": {
    "pycharm": {
     "name": "#%% md\n"
    }
   },
   "source": [
    "## Make predictions <a class=\"anchor\" id=\"predict\"></a>"
   ]
  },
  {
   "cell_type": "code",
   "execution_count": null,
   "metadata": {
    "pycharm": {
     "name": "#%%\n"
    }
   },
   "outputs": [],
   "source": [
    "prediction = saint_trainer.predict(model=model, datamodule=data_module, df=df_test)\n",
    "df_test[\"prediction\"] = np.argmax(prediction, axis=1)"
   ]
  },
  {
   "cell_type": "code",
   "execution_count": 7,
   "metadata": {
    "pycharm": {
     "name": "#%%\n"
    }
   },
   "outputs": [
    {
     "name": "stdout",
     "output_type": "stream",
     "text": [
      "              precision    recall  f1-score   support\n",
      "\n",
      "           0       0.89      0.94      0.91      2456\n",
      "           1       0.78      0.63      0.70       801\n",
      "\n",
      "    accuracy                           0.87      3257\n",
      "   macro avg       0.83      0.79      0.80      3257\n",
      "weighted avg       0.86      0.87      0.86      3257\n",
      "\n"
     ]
    }
   ],
   "source": [
    "print(classification_report(data_module.predict_set[df.columns[14]], df_test[\"prediction\"]))"
   ]
  },
  {
   "cell_type": "markdown",
   "metadata": {
    "pycharm": {
     "name": "#%% md\n"
    }
   },
   "source": [
    "## Uncertainty Estimation <a class=\"anchor\" id=\"uncertainty\"></a>"
   ]
  },
  {
   "cell_type": "code",
   "execution_count": null,
   "metadata": {
    "pycharm": {
     "name": "#%%\n"
    }
   },
   "outputs": [],
   "source": [
    "mc_prediction = saint_trainer.predict(model=model, datamodule=data_module, df=df_test, mc_dropout_iterations=4)"
   ]
  },
  {
   "cell_type": "code",
   "execution_count": 9,
   "metadata": {
    "pycharm": {
     "name": "#%%\n"
    }
   },
   "outputs": [
    {
     "data": {
      "text/plain": [
       "array([[[0.9885666 , 0.98791903, 0.987258  , 0.986961  ],\n",
       "        [0.01143348, 0.01208097, 0.01274193, 0.01303895]],\n",
       "\n",
       "       [[0.4831934 , 0.46905848, 0.4488404 , 0.5043215 ],\n",
       "        [0.51680666, 0.53094155, 0.55115956, 0.49567848]],\n",
       "\n",
       "       [[0.38506672, 0.42264497, 0.37724075, 0.39455432],\n",
       "        [0.61493325, 0.577355  , 0.6227592 , 0.6054457 ]],\n",
       "\n",
       "       ...,\n",
       "\n",
       "       [[0.58161247, 0.5454856 , 0.56008404, 0.5523559 ],\n",
       "        [0.41838756, 0.4545144 , 0.43991593, 0.44764405]],\n",
       "\n",
       "       [[0.9095162 , 0.91370744, 0.9123672 , 0.8962503 ],\n",
       "        [0.09048383, 0.08629262, 0.08763281, 0.10374971]],\n",
       "\n",
       "       [[0.42250738, 0.41206264, 0.42539898, 0.40183735],\n",
       "        [0.5774926 , 0.5879373 , 0.574601  , 0.59816265]]], dtype=float32)"
      ]
     },
     "execution_count": 9,
     "metadata": {},
     "output_type": "execute_result"
    }
   ],
   "source": [
    "mc_prediction"
   ]
  },
  {
   "cell_type": "code",
   "execution_count": 10,
   "metadata": {
    "pycharm": {
     "name": "#%%\n"
    }
   },
   "outputs": [
    {
     "data": {
      "text/plain": [
       "array([[<AxesSubplot:title={'center':'variance'}>]], dtype=object)"
      ]
     },
     "execution_count": 10,
     "metadata": {},
     "output_type": "execute_result"
    },
    {
     "data": {
      "image/png": "[encoded data removed]",
      "text/plain": [
       "<Figure size 432x288 with 1 Axes>"
      ]
     },
     "metadata": {
      "needs_background": "light"
     },
     "output_type": "display_data"
    }
   ],
   "source": [
    "# Given the predictions we can compute the variance across the iterations, so axis=2\n",
    "var_prediction = np.var(mc_prediction,axis=2)\n",
    "# Then we focus our attention on the variance of the first class\n",
    "pd.DataFrame(var_prediction[:,0], columns=[\"variance\"]).hist()"
   ]
  }
 ],
 "metadata": {
  "kernelspec": {
   "display_name": "Python 3",
   "language": "python",
   "name": "python3"
  },
  "language_info": {
   "codemirror_mode": {
    "name": "ipython",
    "version": 3
   },
   "file_extension": ".py",
   "mimetype": "text/x-python",
   "name": "python",
   "nbconvert_exporter": "python",
   "pygments_lexer": "ipython3",
   "version": "3.8.6"
  }
 },
 "nbformat": 4,
 "nbformat_minor": 2
}
